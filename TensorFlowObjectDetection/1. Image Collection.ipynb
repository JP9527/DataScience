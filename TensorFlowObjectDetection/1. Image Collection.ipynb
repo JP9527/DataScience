{
 "cells": [
  {
   "cell_type": "markdown",
   "metadata": {},
   "source": [
    "# 1. Import Dependencies"
   ]
  },
  {
   "cell_type": "code",
   "execution_count": 1,
   "metadata": {},
   "outputs": [
    {
     "name": "stdout",
     "output_type": "stream",
     "text": [
      "Requirement already satisfied: opencv-python in c:\\tfod\\tfodcourse\\tfod2\\lib\\site-packages (4.5.3.56)\n",
      "Requirement already satisfied: numpy>=1.17.3 in c:\\tfod\\tfodcourse\\tfod2\\lib\\site-packages (from opencv-python) (1.19.5)\n"
     ]
    }
   ],
   "source": [
    "!pip install opencv-python"
   ]
  },
  {
   "cell_type": "code",
   "execution_count": 2,
   "metadata": {},
   "outputs": [],
   "source": [
    "# Import opencv\n",
    "import cv2 \n",
    "\n",
    "# Import uuid\n",
    "import uuid\n",
    "\n",
    "# Import Operating System\n",
    "import os\n",
    "\n",
    "# Import time\n",
    "import time"
   ]
  },
  {
   "cell_type": "markdown",
   "metadata": {},
   "source": [
    "# 1.x. Testing Microscope  Positioning"
   ]
  },
  {
   "cell_type": "code",
   "execution_count": 3,
   "metadata": {},
   "outputs": [],
   "source": [
    "cap = cv2.VideoCapture(0)\n",
    "while cap.isOpened():\n",
    "    ret, frame = cap.read()\n",
    "    \n",
    "    cv2.imshow('Microscope Feed.', frame)\n",
    "    \n",
    "    if cv2.waitKey(1) & 0xFF == ord('q'):\n",
    "        break\n",
    "cap.release()\n",
    "cv2.destroyAllWindows()"
   ]
  },
  {
   "cell_type": "markdown",
   "metadata": {},
   "source": [
    "# 2. Define Images to Collect"
   ]
  },
  {
   "cell_type": "code",
   "execution_count": 3,
   "metadata": {},
   "outputs": [],
   "source": [
    "labels = ['thumbsup', 'thumbsdown', 'thankyou', 'livelong']\n",
    "number_imgs = 5"
   ]
  },
  {
   "cell_type": "markdown",
   "metadata": {},
   "source": [
    "# 3. Setup Folders "
   ]
  },
  {
   "cell_type": "code",
   "execution_count": 4,
   "metadata": {},
   "outputs": [],
   "source": [
    "IMAGES_PATH = os.path.join('Tensorflow', 'workspace', 'images', 'collectedimages')"
   ]
  },
  {
   "cell_type": "code",
   "execution_count": 5,
   "metadata": {},
   "outputs": [],
   "source": [
    "if not os.path.exists(IMAGES_PATH):\n",
    "    if os.name == 'posix':\n",
    "        !mkdir -p {IMAGES_PATH}\n",
    "    if os.name == 'nt':\n",
    "         !mkdir {IMAGES_PATH}\n",
    "for label in labels:\n",
    "    path = os.path.join(IMAGES_PATH, label)\n",
    "    if not os.path.exists(path):\n",
    "        !mkdir {path}"
   ]
  },
  {
   "cell_type": "markdown",
   "metadata": {},
   "source": [
    "# 4. Capture Images"
   ]
  },
  {
   "cell_type": "code",
   "execution_count": 6,
   "metadata": {},
   "outputs": [
    {
     "data": {
      "text/plain": [
       "'nt'"
      ]
     },
     "execution_count": 6,
     "metadata": {},
     "output_type": "execute_result"
    }
   ],
   "source": [
    "os.name"
   ]
  },
  {
   "cell_type": "code",
   "execution_count": 15,
   "metadata": {},
   "outputs": [
    {
     "name": "stdout",
     "output_type": "stream",
     "text": [
      "Collecting images for thumbsup\n",
      "Collecting image 0\n",
      "Collecting image 1\n",
      "Collecting image 2\n",
      "Collecting image 3\n",
      "Collecting image 4\n",
      "Collecting images for thumbsdown\n",
      "Collecting image 0\n",
      "Collecting image 1\n",
      "Collecting image 2\n",
      "Collecting image 3\n",
      "Collecting image 4\n",
      "Collecting images for thankyou\n",
      "Collecting image 0\n",
      "Collecting image 1\n",
      "Collecting image 2\n",
      "Collecting image 3\n",
      "Collecting image 4\n",
      "Collecting images for livelong\n",
      "Collecting image 0\n",
      "Collecting image 1\n",
      "Collecting image 2\n",
      "Collecting image 3\n",
      "Collecting image 4\n"
     ]
    }
   ],
   "source": [
    "for label in labels:\n",
    "    cap = cv2.VideoCapture(0) # connect to webcam\n",
    "    print('Collecting images for {}'.format(label))\n",
    "    time.sleep(5)\n",
    "    for imgnum in range(number_imgs):\n",
    "        print('Collecting image {}'.format(imgnum))\n",
    "        ret, frame = cap.read()\n",
    "        imgname = os.path.join(IMAGES_PATH,label,label+'.'+'{}.jpg'.format(str(uuid.uuid1())))\n",
    "        cv2.imwrite(imgname, frame)\n",
    "        cv2.imshow('frame', frame)\n",
    "        time.sleep(2)\n",
    "\n",
    "        if cv2.waitKey(1) & 0xFF == ord('q'):\n",
    "            break\n",
    "cap.release()\n",
    "cv2.destroyAllWindows()"
   ]
  },
  {
   "cell_type": "markdown",
   "metadata": {},
   "source": [
    "# 5. Image Labelling"
   ]
  },
  {
   "cell_type": "code",
   "execution_count": 7,
   "metadata": {},
   "outputs": [
    {
     "name": "stdout",
     "output_type": "stream",
     "text": [
      "Collecting pyqt5\n",
      "  Using cached PyQt5-5.15.4-cp36.cp37.cp38.cp39-none-win_amd64.whl (6.8 MB)\n",
      "Collecting lxml\n",
      "  Using cached lxml-4.6.3-cp38-cp38-win_amd64.whl (3.5 MB)\n",
      "Collecting PyQt5-Qt5>=5.15\n",
      "  Using cached PyQt5_Qt5-5.15.2-py3-none-win_amd64.whl (50.1 MB)\n",
      "Collecting PyQt5-sip<13,>=12.8\n",
      "  Using cached PyQt5_sip-12.9.0-cp38-cp38-win_amd64.whl (63 kB)\n",
      "Installing collected packages: PyQt5-sip, PyQt5-Qt5, pyqt5, lxml\n",
      "Successfully installed PyQt5-Qt5-5.15.2 PyQt5-sip-12.9.0 lxml-4.6.3 pyqt5-5.15.4\n"
     ]
    }
   ],
   "source": [
    "!pip install --upgrade pyqt5 lxml"
   ]
  },
  {
   "cell_type": "code",
   "execution_count": 5,
   "metadata": {},
   "outputs": [],
   "source": [
    "LABELIMG_PATH = os.path.join('Tensorflow', 'labelimg')"
   ]
  },
  {
   "cell_type": "code",
   "execution_count": 9,
   "metadata": {},
   "outputs": [],
   "source": [
    "if not os.path.exists(LABELIMG_PATH):\n",
    "    !mkdir {LABELIMG_PATH}\n",
    "    !git clone https://github.com/tzutalin/labelImg {LABELIMG_PATH}"
   ]
  },
  {
   "cell_type": "code",
   "execution_count": 6,
   "metadata": {},
   "outputs": [],
   "source": [
    "if os.name == 'posix':\n",
    "    !make qt5py3\n",
    "if os.name =='nt':\n",
    "    !cd {LABELIMG_PATH} && pyrcc5 -o libs/resources.py resources.qrc"
   ]
  },
  {
   "cell_type": "code",
   "execution_count": 7,
   "metadata": {},
   "outputs": [
    {
     "name": "stdout",
     "output_type": "stream",
     "text": [
      "Cancel creation."
     ]
    },
    {
     "name": "stderr",
     "output_type": "stream",
     "text": [
      "labelImg.py:965: DeprecationWarning: an integer is required (got type float).  Implicit conversion to integers using __int__ is deprecated, and may be removed in a future version of Python.\n",
      "  bar.setValue(bar.value() + bar.singleStep() * units)\n"
     ]
    },
    {
     "name": "stdout",
     "output_type": "stream",
     "text": [
      "\n",
      "Cancel creation.\n",
      "ESC press\n",
      "Cancel creation.\n",
      "Cancel creation.\n",
      "Cancel creation.\n",
      "ESC press\n",
      "Cancel creation.\n",
      "Cancel creation.\n",
      "Image:C:\\TFOD\\TFODCourse\\Tensorflow\\workspace\\tire-images\\train\\25.jpg -> Annotation:C:/TFOD/TFODCourse/Tensorflow/workspace/tire-images/train/25.xml\n",
      "Image:C:\\TFOD\\TFODCourse\\Tensorflow\\workspace\\tire-images\\train\\1.jpg -> Annotation:C:/TFOD/TFODCourse/Tensorflow/workspace/tire-images/train/1.xml\n",
      "Image:C:\\TFOD\\TFODCourse\\Tensorflow\\workspace\\tire-images\\train\\2.jpg -> Annotation:C:/TFOD/TFODCourse/Tensorflow/workspace/tire-images/train/2.xml\n",
      "Image:C:\\TFOD\\TFODCourse\\Tensorflow\\workspace\\tire-images\\train\\3.jpg -> Annotation:C:/TFOD/TFODCourse/Tensorflow/workspace/tire-images/train/3.xml\n",
      "Image:C:\\TFOD\\TFODCourse\\Tensorflow\\workspace\\tire-images\\train\\4.jpg -> Annotation:C:/TFOD/TFODCourse/Tensorflow/workspace/tire-images/train/4.xml\n",
      "Image:C:\\TFOD\\TFODCourse\\Tensorflow\\workspace\\tire-images\\train\\5.jpg -> Annotation:C:/TFOD/TFODCourse/Tensorflow/workspace/tire-images/train/5.xml\n",
      "Image:C:\\TFOD\\TFODCourse\\Tensorflow\\workspace\\tire-images\\train\\6.jpg -> Annotation:C:/TFOD/TFODCourse/Tensorflow/workspace/tire-images/train/6.xml\n",
      "Image:C:\\TFOD\\TFODCourse\\Tensorflow\\workspace\\tire-images\\train\\8.jpg -> Annotation:C:/TFOD/TFODCourse/Tensorflow/workspace/tire-images/train/8.xml\n",
      "Image:C:\\TFOD\\TFODCourse\\Tensorflow\\workspace\\tire-images\\train\\9.jpg -> Annotation:C:/TFOD/TFODCourse/Tensorflow/workspace/tire-images/train/9.xml\n",
      "Image:C:\\TFOD\\TFODCourse\\Tensorflow\\workspace\\tire-images\\train\\12.jpg -> Annotation:C:/TFOD/TFODCourse/Tensorflow/workspace/tire-images/train/12.xml\n",
      "Image:C:\\TFOD\\TFODCourse\\Tensorflow\\workspace\\tire-images\\train\\14.jpg -> Annotation:C:/TFOD/TFODCourse/Tensorflow/workspace/tire-images/train/14.xml\n",
      "Image:C:\\TFOD\\TFODCourse\\Tensorflow\\workspace\\tire-images\\train\\15.jpg -> Annotation:C:/TFOD/TFODCourse/Tensorflow/workspace/tire-images/train/15.xml\n",
      "Cancel creation.\n",
      "Image:C:\\TFOD\\TFODCourse\\Tensorflow\\workspace\\tire-images\\train\\16.jpg -> Annotation:C:/TFOD/TFODCourse/Tensorflow/workspace/tire-images/train/16.xml\n",
      "Image:C:\\TFOD\\TFODCourse\\Tensorflow\\workspace\\tire-images\\train\\17.jpg -> Annotation:C:/TFOD/TFODCourse/Tensorflow/workspace/tire-images/train/17.xml\n",
      "Image:C:\\TFOD\\TFODCourse\\Tensorflow\\workspace\\tire-images\\train\\18.jpg -> Annotation:C:/TFOD/TFODCourse/Tensorflow/workspace/tire-images/train/18.xml\n",
      "Image:C:\\TFOD\\TFODCourse\\Tensorflow\\workspace\\tire-images\\train\\19.jpg -> Annotation:C:/TFOD/TFODCourse/Tensorflow/workspace/tire-images/train/19.xml\n",
      "Image:C:\\TFOD\\TFODCourse\\Tensorflow\\workspace\\tire-images\\train\\20.jpg -> Annotation:C:/TFOD/TFODCourse/Tensorflow/workspace/tire-images/train/20.xml\n",
      "Image:C:\\TFOD\\TFODCourse\\Tensorflow\\workspace\\tire-images\\train\\21.jpg -> Annotation:C:/TFOD/TFODCourse/Tensorflow/workspace/tire-images/train/21.xml\n",
      "Image:C:\\TFOD\\TFODCourse\\Tensorflow\\workspace\\tire-images\\train\\22.jpg -> Annotation:C:/TFOD/TFODCourse/Tensorflow/workspace/tire-images/train/22.xml\n",
      "Image:C:\\TFOD\\TFODCourse\\Tensorflow\\workspace\\tire-images\\train\\23.jpg -> Annotation:C:/TFOD/TFODCourse/Tensorflow/workspace/tire-images/train/23.xml\n",
      "Image:C:\\TFOD\\TFODCourse\\Tensorflow\\workspace\\tire-images\\train\\24.jpg -> Annotation:C:/TFOD/TFODCourse/Tensorflow/workspace/tire-images/train/24.xml\n"
     ]
    }
   ],
   "source": [
    "!cd {LABELIMG_PATH} && python labelImg.py"
   ]
  },
  {
   "cell_type": "markdown",
   "metadata": {},
   "source": [
    "# 6. Move them into a Training and Testing Partition"
   ]
  },
  {
   "cell_type": "markdown",
   "metadata": {},
   "source": [
    "# OPTIONAL - 7. Compress them for Colab Training"
   ]
  },
  {
   "cell_type": "code",
   "execution_count": 11,
   "metadata": {},
   "outputs": [],
   "source": [
    "TRAIN_PATH = os.path.join('Tensorflow', 'workspace', 'images', 'train')\n",
    "TEST_PATH = os.path.join('Tensorflow', 'workspace', 'images', 'test')\n",
    "ARCHIVE_PATH = os.path.join('Tensorflow', 'workspace', 'images', 'archive.tar.gz')"
   ]
  },
  {
   "cell_type": "code",
   "execution_count": 12,
   "metadata": {},
   "outputs": [],
   "source": [
    "!tar -czf {ARCHIVE_PATH} {TRAIN_PATH} {TEST_PATH}"
   ]
  },
  {
   "cell_type": "code",
   "execution_count": null,
   "metadata": {},
   "outputs": [],
   "source": []
  }
 ],
 "metadata": {
  "interpreter": {
   "hash": "1baa965d5efe3ac65b79dfc60c0d706280b1da80fedb7760faf2759126c4f253"
  },
  "kernelspec": {
   "display_name": "tfod2",
   "language": "python",
   "name": "tfod2"
  },
  "language_info": {
   "codemirror_mode": {
    "name": "ipython",
    "version": 3
   },
   "file_extension": ".py",
   "mimetype": "text/x-python",
   "name": "python",
   "nbconvert_exporter": "python",
   "pygments_lexer": "ipython3",
   "version": "3.8.1"
  }
 },
 "nbformat": 4,
 "nbformat_minor": 2
}
